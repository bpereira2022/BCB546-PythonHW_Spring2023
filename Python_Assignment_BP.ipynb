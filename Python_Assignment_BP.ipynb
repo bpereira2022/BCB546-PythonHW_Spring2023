{
 "cells": [
  {
   "cell_type": "markdown",
   "id": "272d0b9d",
   "metadata": {},
   "source": [
    "# Initial steps before looking at data: "
   ]
  },
  {
   "cell_type": "code",
   "execution_count": 1,
   "id": "dfa2b97a",
   "metadata": {},
   "outputs": [],
   "source": [
    "from Bio import SeqIO # SeqIO reads sequences from a file and stores them as a SeqRecord.\n",
    "from Bio.Data import CodonTable \n",
    "from Bio.Seq import Seq\n",
    "import pandas as pd # library used to analyze our data. \n",
    "from Bio.SeqUtils.ProtParam import ProteinAnalysis\n",
    "import matplotlib.pyplot as plt\n",
    "import seaborn as sns"
   ]
  },
  {
   "cell_type": "markdown",
   "id": "17e10247",
   "metadata": {},
   "source": [
    "# Functions"
   ]
  },
  {
   "cell_type": "markdown",
   "id": "49eaa14a",
   "metadata": {},
   "source": [
    "## 1. Explanation of Dr. X's code: "
   ]
  },
  {
   "cell_type": "markdown",
   "id": "0a6fb54d",
   "metadata": {},
   "source": [
    "The explanation of the input, line by line: \n",
    "1) def is used to define a functions. We have named our function 'get_sequences_from_file'. Our argument is 'fasta_fn', for fasta function. \n",
    "2) We want the final output to go somewhere. In this case it will go to an empty ({}) dictionary called sequence_data_dict. Dictionaries hold keys and values, which allows us to give an identifier for our values (the sequence data). \n",
    "3) This is the start of a for loop, hence the \"for\". we are applying our get_sequences_from_file funtion to the records of whatever fasta file we apply the function to later. SeqI0 reads sequences from the file and stores it as a SeqRecord.\n",
    "4) Here, we are splitting the decriptions by the individual records. \n",
    "5) Here, we are saying that the specie's name has two parts (description 1 and 2), seperated by a space. \n",
    "6) Here, we are adding an item to the dictionary. This is done by assigning a value (species_name) to a new key (record.seq). \n",
    "7) Lastly, the output is returned to sequence_data_dict - the empty dictionary. "
   ]
  },
  {
   "cell_type": "code",
   "execution_count": 2,
   "id": "6012e857",
   "metadata": {},
   "outputs": [],
   "source": [
    "def get_sequences_from_file(fasta_fn):\n",
    "    sequence_data_dict = {}\n",
    "    for record in SeqIO.parse(fasta_fn, \"fasta\"):\n",
    "        description = record.description.split()\n",
    "        species_name = description[1] + \" \" + description[2]\n",
    "        sequence_data_dict[species_name] = record.seq\n",
    "    return(sequence_data_dict)"
   ]
  },
  {
   "cell_type": "markdown",
   "id": "9a7bfe67",
   "metadata": {},
   "source": [
    "The explanation of the output: \n",
    "\n",
    "As requested, when the function is applied to our fasta file, penguins_cytb.fasta, we receive lines, seperated by commas, of information pertaining each record. It starts with the the species name, and is followed by the DNA sequence. "
   ]
  },
  {
   "cell_type": "code",
   "execution_count": 3,
   "id": "234b5ccc",
   "metadata": {
    "scrolled": true
   },
   "outputs": [
    {
     "data": {
      "text/plain": [
       "{'Aptenodytes forsteri': Seq('ATGGCCCCAAATCTCCGAAAATCCCATCCCCTCCTAAAAATAATTAATAACTCC...TAA'),\n",
       " 'Aptenodytes patagonicus': Seq('ATGGCCCCAAACCTCCGAAAATCCCATCCTCTCCTAAAAATAATTAATAACTCC...TAA'),\n",
       " 'Eudyptes chrysocome': Seq('ATGGCCCCCAACCTCCGAAAATCCCACCCCCTCCTAAAAACAATCAATAACTCC...TAA'),\n",
       " 'Eudyptes chrysolophus': Seq('ATGGCCCCCAACCTCCGAAAATCCCACCCCCTCCTAAAAACAATCAATAACTCC...TAA'),\n",
       " 'Eudyptes sclateri': Seq('ATGGCCCCCAACCTCCGAAAATCCCACCCCCTCCTAAAAACAATCAATAACTCC...TAA'),\n",
       " 'Eudyptula minor': Seq('ATGGCCCCCAACCTCCGAAAATCTCACCCCCTCCTAAAAATAATCAACAACTCT...TAA'),\n",
       " 'Pygoscelis adeliae': Seq('ATGGCCCCCAACCTCCGAAAATCCCACCCTCTCCTAAAAATAATTAACAACTCC...TAA'),\n",
       " 'Pygoscelis antarctica': Seq('ATGGCCCCCAACCTCCGAAAATCCCACCCTCTCCTAAAAATAATCAACAACTCC...TAG'),\n",
       " 'Pygoscelis papua': Seq('ATGGCCCCCAACCTTCGAAAATCCCACCCTCTCCTAAAAATAATCAACAAATCC...TAG'),\n",
       " 'Spheniscus demersus': Seq('ATGGCCCCCAACCTCCGAAAATCCCACCCTCTCCTAAAAACAATCAACAACTCC...TAA'),\n",
       " 'Spheniscus humboldti': Seq('ATGGCCCCCAACCTCCGAAAATCCCACCCTCTCCTAAAAACAATCAACAACTCC...TAA'),\n",
       " 'Spheniscus magellanicus': Seq('ATGGCCCCCAACCTCCGAAAATCCCACCCTCTCCTAAAAACAATCAACAACTCC...TAA')}"
      ]
     },
     "execution_count": 3,
     "metadata": {},
     "output_type": "execute_result"
    }
   ],
   "source": [
    "our_sequences = get_sequences_from_file(\"penguins_cytb.fasta\") # apply this function to penguins_cytb.fasta to see what they output is.\n",
    "our_sequences"
   ]
  },
  {
   "cell_type": "markdown",
   "id": "c41bff3e",
   "metadata": {},
   "source": [
    "Getting a closer look at our dictionary format: "
   ]
  },
  {
   "cell_type": "code",
   "execution_count": 4,
   "id": "495fefef",
   "metadata": {},
   "outputs": [
    {
     "name": "stdout",
     "output_type": "stream",
     "text": [
      "Aptenodytes forsteri  =  ATGGCCCCAAATCTCCGAAAATCCCATCCCCTCCTAAAAATAATTAATAACTCCCTAATCGACCTGCCCACCCCATCAAACATCTCTGCCTGATGAAACTTCGGATCTCTCCTAGGCATCTGCCTAACTACACAAATTTTAACCGGCCTCCTACTAGCTATACACTACACTGCAGACACAACCCTAGCCTTCTCCTCAGTCGCCCACACATGCCGAAACGTACAGTACGGCTGACTGATCCGCAACCTACATGCAAACGGAGCATCATTCTTCTTCATCTGCATCTATCTCCACATTGGCCGTGGATTTTACTATGGCTCCTATCTATACAAAGAAACCTGAAACACAGGCATTATCCTCCTACTCACCCTCATGGCAACCGCCTTCGTAGGCTACGTCCTACCATGAGGACAAATATCTTTCTGAGGAGCCACAGTCATTACCAACTTATTCTCAGCCATCCCTTACATTGGCCAAACCCTCGTAGAATGGACCTGAGGTGGCTTTTCAGTAGACAACCCCACATTAACCCGATTTTTCGCACTACACTTCCTCCTTCCCTTCATAATCGCAGGCCTCACCCTCATCCACCTCACCTTCCTCCACGAATCAGGCTCAAATAACCCACTGGGCATCGTAGCTAACTCCGATAAAATCCCATTCCACCCCTACTACTCCACAAAAGACATCCTAGGATTCGCACTCATACTTCTCCCACTAACAACCCTTGCCCTATTCTCCCCCAACCTACTAGGAGACCCAGAAAACTTCACCCCAGCAAACCCACTAGTCACACCCCCACACATCAAACCAGAATGATACTTCCTATTTGCATACGCTATCCTACGCTCAATCCCCAACAAACTAGGAGGAGTCCTTGCCCTAGCAGCATCCGTGCTAATCCTATTCCTAATCCCTCTCCTCCACAAATCCAAGCAACGCACAATAGCTTTCCGCCCTCTCTCCCAACTCCTATTCTGAGCCCTAGTAGCCAATCTCATTATCCTAACATGAGTAGGTAGCCAACCAGTAGAACACCCCTTCATCATCATCGGCCAACTAGCCTCCCTCACTTACTTCACCACCCTCCTGATCCTCTTCCCCATTGCTGGGGCCCTAGAAAACAAAATACTCAACCATTAA\n",
      "Aptenodytes patagonicus  =  ATGGCCCCAAACCTCCGAAAATCCCATCCTCTCCTAAAAATAATTAATAACTCCCTAATCGACCTGCCCACCCCATCAAACATCTCTGCCTGATGAAACTTCGGATCTCTCCTAGGCATCTGCCTAACTACACAAATCTTAACCGGCCTCCTACTAGCTATACACTACACTGCAGACACAACCCTGGCCTTCTCCTCAGTCGCCCACACATGCCGAAATGTACAGTACGGCTGACTAATCCGCAACCTACATGCAAACGGAGCATCATTCTTTTTCATCTGCATCTACCTCCACATCGGCCGTGGATTTTACTACGGCTCCTACCTATACAAAGAAACCTGAAACACGGGCATCATTCTCCTACTCACACTCATAGCAACCGCCTTCGTAGGCTACGTCCTGCCATGGGGACAAATATCATTCTGAGGGGCCACAGTCATTACCAACTTATTCTCAGCCATCCCCTACATCGGCCAAACCCTCGTAGAATGAGCCTGAGGTGGCTTTTCAGTAGACAACCCCACATTAACCCGATTTTTCGCACTACACTTCCTCCTCCCCTTCATAATCGCAGGCCTCACCCTCATCCATCTCACCTTCCTCCACGAATCAGGCTCAAACAACCCACTGGGCATCGTAGCTAACTCCGATAAGATCCCATTCCATCCCTACTACTCCACAAAAGACACCCTAGGATTCGCACTCATACTTCTCCCACTAACAACCCTCGCCCTATTCTCCCCCAACTTACTGGGGGACCCAGAAAACTTTACCCCAGCAAACCCACTAGTCACACCCCCACACATCAAACCAGAATGATACTTCCTATTTGCATACGCTATCCTACGCTCAATCCCCAACAAACTGGGGGGAGTCCTAGCCCTAGCAGCCTCAGTACTGATCCTATTCCTAATCCCCCTCCTCCACAAGTCCAAACAGCGTACAATAACCTTCCGTCCCCTCTCCCAGCTCCTATTCTGAACCTTAGTAGCCAACCTCACCATCCTAACATGGATCGGCAGCCAACCAGTAGAACACCCCTTCATCATCATCGGCCAACTAGCTTCCCTCACCTACTTCACCATCCTCCTAATCCTCTTCCCCCTCATCGGGACTCTAGAAAACAAGATACTTAACCACTAA\n",
      "Eudyptes chrysocome  =  ATGGCCCCCAACCTCCGAAAATCCCACCCCCTCCTAAAAACAATCAATAACTCCCTAATCGACCTACCCACCCCATCAAACATCTCTGCCTGATGAAACTTCGGATCTCTCCTGGGCATCTGCCTAGCTACACAAATCCTAACCGGCCTCTTACTAGCTGCCCACTACACCGCAGACACCACCTTAGCCTTCTCCTCCGTCGCCCATACATGCCGAAATGTACAATACGGCTGATTAATCCGCAATCTACACGCAAACGGGGCCTCATTCTTCTTCATCTGCATCTACCTCCACATCGGTCGCGGACTCTACTACGGCTCCTACCTGTACAAAGAAACCTGAAACACAGGCATTATCCTCCTACTCACCCTCATAGCAACCGCCTTCGTAGGCTATGTCCTACCATGAGGTCAGATATCCTTCTGAGGGGCCACAGTCATCACCAACCTATTCTCAGCCATCCCCTACATCGGCCAAACCCTCGTAGAGTGGGCCTGAGGCGGCTTCTCAGTAGACAACCCCACACTAACCCGATTCTTCACACTACACTTCCTTCTCCCCTTCATAATCGCAGGCCTCACCTTAATCCACCTCACCTTCCTCCACGAATCAGGCTCAAACAACCCCCTAGGCATCGTAGCCAACTCCGACAAAATCCCATTCCACCCCTACTACTCTACAAAAGATATCCTAGGATTTATCCTCCTACTCCTTCCACTAACAACCCTTGCCCTATTCTCACCCAACTTGCTAGGAGACCCAGAAAACTTCACCCCAGCAAACCCCCTAGTCACACCCCCACATATCAAACCAGAGTGGTACTTCCTATTTGCATACGCTATCCTACGCTCAATCCCCAACAAACTGGGAGGAGTCCTAGCCCTAGCAGCATCAGTACTAATCCTGTTCCTAATCCCCCTCCTCCACAAATCCAAGCAGCGCACAATAACCTTCCGCCCCCTCTCCCAACTTCTATTCTGAACCCTAGTGGCCAACCTCACCATCCTAACATGAATCGGCAGCCAACCAGTAGAGCACCCCTTCATCATCATCGGCCAACTAGCCTCCCTTACCTACTTCACCATCCTCCTAATCCTCTTCCCCCTCATCGGGACCCTAGAAAACAAGATACTCAACCACTAA\n",
      "Eudyptes chrysolophus  =  ATGGCCCCCAACCTCCGAAAATCCCACCCCCTCCTAAAAACAATCAATAACTCCCTAATCGACCTACCCACTCCATCAAACATCTCCGCCTGATGAAACTTCGGATCTCTTCTGGGCATCTGCCTGGCCACACAAATCCTAACCGGCCTCTTACTGGCTGCCCACTACACCGCAGACACCACTCTAGCTTTCTCCTCCGTCGCCCATACATGCCGAAACGTACAATATGGCTGATTAATCCGCAATCTACACGCAAATGGAGCCTCATTCTTCTTCATCTGCATCTACCTTCACATCGGCCGCGGACTCTACTACGGCTCCTACCTGTACAAAGAAACCTGAAATACAGGCATTATCCTCCTGCTCACCCTCATAGCAACCGCCTTCGTAGGCTATGTCCTACCATGGGGCCAAATATCCTTCTGAGGGGCCACAGTCATCACCAACCTATTCTCAGCCATCCCCTATATCGGCCAAACCCTCGTAGAATGGGCCTGAGGCGGCTTCTCAGTAGACAACCCCACACTAACCCGATTCTTCACACTACACTTCCTTCTCCCCTTCATAATCGCAGGCCTCACCCTAATCCACCTCACCTTCCTCCACGAGTCAGGCTCAAACAACCCACTAGGCATCGTAGCCAACTCCGACAAAATCCCATTCCACCCCTACTACTCCACAAAAGATATCCTAGGATTTATCCTCCTACTCCTTCCACTAACAGCCCTTGCCCTATTCTCACCCAACTTGCTAGGAGACCCAGAAAACTTCACCCCAGCAAACCCCCTAGTCACACCCCCACATATCAAACCAGAATGATACTTCCTATTTGCATACGCTATCCTACGCTCAATCCCCAACAAACTGGGGGGAGTCCTAGCCCTAGCAGCCTCAGTACTGATCCTATTCCTAATCCCCCTCCTCCACAAGTCCAAACAGCGTACAATAACCTTCCGTCCCCTCTCCCAGCTCCTATTCTGAACCTTAGTAGCCAACCTCACCATCCTAACATGGATCGGCAGCCAACCAGTAGAACACCCCTTCATCATCATCGGCCAACTAGCTTCCCTCACCTACTTCACCATCCTCCTAATCCTCTTCCCCCTCATCGGGACTCTAGAAAACAAGATACTTAACCACTAA\n",
      "Eudyptes sclateri  =  ATGGCCCCCAACCTCCGAAAATCCCACCCCCTCCTAAAAACAATCAATAACTCCCTAATCGACCTACCCACCCCATCAAACATCTCTGCCTGATGAAACTTCGGATCTCTCCTGGGCATCTGCCTAGCCACACAAATCCTAACCGGCCTCTTACTGGCCGCCCACTACACCGCAGACACCACCCTAGCCTTCTCCTCCGTCGCCCATACATGCCGAAACGTACAATACGGCTGATTAATCCGCAATCTACACGCAAACGGGGCCTCATTCTTCTTCATCTGCATCTACCTCCACATCGGTCGCGGCCTCTACTACGGCTCCTACCTGTACAAAGAAACCTGAAATACAGGCATTATCCTCCTGCTCACCCTCATAGCAACCGCCTTCGTAGGCTATGTCCTACCATGGGGCCAAATATCCTTCTGAGGAGCCACAGTCATCACCAACCTATTCTCAGCCATCCCCTACATCGGCCAAACCCTCGTAGAATGGGCCTGAGGTGGCTTCTCAGTAGACAATCCCACACTAACCCGATTCTTCACACTACACTTCCTTCTCCCCTTCATAATCGCAGGCCTCACCCTAATCCACCTCACCTTTCTCCACGAATCAGGCTCAAACAACCCACTAGGCATCGTAGCCAACTCCGACAAAATCCCATTCCACCCCTACTACTCCACAAAAGACATCCTAGGATTTATCCTCCTACTCCTTCCACTAACAACCCTCGCCTTATTCTCACCCAACTTGCTAGGGGACCCAGAAAACTTCACCCCAGCAAACCCCCTAGTCACACCCCCACATATCAAACCAGAATGATACTTCCTATTTGCATACGCTATCCTACGCTCAATCCCCAACAAGCTAGGAGGAGTCCTAGCCCTAGCAGCATCAGTACTAATCCTATTCCTAATCCCCCTCCTCCACAAATCCAAGCAACGTACAATAACCTTCCGTCCCCTCTCCCAACTTCTATTCTGAACCTTAGTGGCCAACCTCACCATCCTAACATGAATCGGTAGCCAACCAGTAGAACACCCCTTCATCATCATCGGCCAACTAGCCTCCCTCACCTACTTCACCATCCTCCTAATCCTCTTCCCCCTCATCGGGACCCTAGAAAACAAGATACTTAACCACTAA\n",
      "Eudyptula minor  =  ATGGCCCCCAACCTCCGAAAATCTCACCCCCTCCTAAAAATAATCAACAACTCTCTAATTGACCTGCCCACCCCATCAAACATTTCTACCTGATGAAACTTCGGATCACTCCTAGGCATTTGCCTGATCACACAAATCCTAACTGGCCTTCTACTAGCCGCCCATTATACTGCAGACACAACCCTAGCCTTCTCCTCCATCGCCCACACATGCCGGAACGTACAGTATGGCTGACTAATCCGCAACCTACACGCAAACGGAGCCTCATTCTTCTTTATCTGCATCTACCTCCACATCGGCCGCGGACTCTACTACGGCTCCTACCTATACAAAGAAACCTGAAACACAGGCATTATCCTCCTAATCACCCTCATAGCAACCGCCTTCGTAGGCTACGTCCTGCCATGAGGCCAAATATCCTTCTGAGGAGCCACAGTCATCACCAACCTATTCTCGGCCATCCCCTACATTGGCCAAACTCTTGTAGAATGAGCCTGAGGCGGCTTCTCAGTAGACAACCCTACACTAACCCGATTCTTCGCACTACACTTCCTCCTCCCATTCATAATTACAGGCCTCACCCTAATTCACCTCACCTTCCTCCACGAATCTGGCTCAAACAACCCACTAGGCATCGTAGCTAACTCCGACAAAATCCCATTCCACCCCTACTACTCCACGAAAGACATCCTAGGGTTCATTCTCTTACTCCTTCCACTTACCACCCTCGCCCTATTCTCACCCAACCTTCTAGGAGACCCAGAAAACTTTACCCCAGCAAACCCTCTAGTCACACCCCCACACATCAAACCAGAATGATACTTCCTATTTGCCTACGCTATTCTACGATCAATTCCCAATAAACTAGGAGGAGTCCTAGCCCTAGCAGCATCCGTACTAATCCTATTCCTAATTCCCCTTCTCCACAAATCCAAACAACGCTCAATAGCCTTCCGTCCCCTCTCCCAACTCCTATTCTGAACCCTAGTAGCCAACCTTACCATCCTAACATGAGTGGGCAACCAACCAGTAGAACACCCCTTCATCATCATCGGCCAACTAGCCTCCCTCACCTATTTCACCATTCTCCTAATCCTCTTCCCCCTCGCCGGGACCCTAGAAAACAAAATACTCAGCCACTAA\n",
      "Pygoscelis adeliae  =  ATGGCCCCCAACCTCCGAAAATCCCACCCTCTCCTAAAAATAATTAACAACTCCCTAATTGACCTACCCACCCCATCAAACATCTCTGCCTGATGAAACTTCGGATCCCTCCTAGGCATTTGCCTGACTACACAAATCCTGACCGGCCTCCTACTAGCCATGCACTACACTGCAGACACAACTCTAGCCTTCTCTTCCATCGCCCACACATGCCGAGATGTACAATATGGCTGACTAATCCGCAACCTCCATGCAAACGGAGCCTCATTCTTCTTCATCTGCATCTACCTCCATATTGGCCGCGGACTCTACTACGGCTCATACCTATACAAAGAAACTTGAAACACAGGCATCATCCTCCTACTTACCCTCATAGCAACTGCTTTTGTAGGCTATGTTTTACCATGAGGACAAATGTCCTTCTGAGGAGCCACTGTCATCACCAACCTATTCTCGGCTATCCCATATATTGGTCAAACCCTCGTAGAATGGGCCTGAGGCGGCTTCTCAGTGGACAACCCCACACTAACCCGATTCTTCGCACTACACTTCCTCCTCCCCTTCGTAATCATAGGCCTCACCCTCATCCACCTTACCTTCCTCCACGAATCAGGCTCAAACAACCCACTAGGCATCGTAGCCAACTCCGACAAAATTCCATTCCACCCCTACTACTCCACAAAAGATATCTTAGGGTTCGCATTCATACTCCTTCCATTAACAACCCTCGCCCTATTTTCACCCAACCTACTAGGTGACCCAGAAAACTTCACCCCAGCAAACCCACTAGTCACACCCCCACATATCAAACCAGAATGATACTTCCTATTCGCATATGCTATCCTACGCTCGATCCCCAACAAACTGGGAGGTGTCCTAGCCTTAGCAGCATCCGTACTAATCCTATTCCTAATCCCCCTCCTCCACAAGTCTAAACAGCGCACAATAGCCTTCCGTCCCCTCTCCCAACTCCTATTCTGAGCCCTAGTAGCCAACCTTGCCATCCTAACATGGGTAGGTAGCCAACCAGTAGAACACCCCTTCATTATCATCGGCCAATTAGCTTCCCTCACCTACTTCACCATCCTCCTGATCCTCTTCCCCTCCATCGGGGCCCTAGAAAACAAAATACTCAACCACTAA\n",
      "Pygoscelis antarctica  =  ATGGCCCCCAACCTCCGAAAATCCCACCCTCTCCTAAAAATAATCAACAACTCCCTAATTGACCTACCCACCCCATCAAACATCTCTGCCTGATGAAACTTCGGATCCCTCTTAGGCATTTGCCTAACTACACAGATCCTGACCGGCCTCCTACTAGCCATACACTACACTGCAGACACAACCCTAGCCTTCTCCTCCATCGCCCATACATGCCGAGACGTACAATACGGCTGACTAATCCGAAACATACATGCAAACGGAGCATCATTGTTGTTCATCTGCATTTACTTACATATCGGACGAGGAGTGTATGACGGCTCCTACCTCCACAAAGAAACCTGAAACACAGGAGTCATCCTCCTACTAACCCTCATAGCAACTGCTTTCGTAGGCTATGTACTACCATGAGGACAAATATCCTTCTGAGGGGCCACTGTTATCACCAACTTATTCTCAGCCATCCCCTACATTGGTCAAACCATCGTAGAGTGAGCCTGAGGCGGCTTCTCAGTAGACAACCCCACATTAACCCGATTCTTCGCACTACACTTTCTTCTCCCCTTCATAATCACAGGCCTTACTCTCATCCACCTTACCTTCCTCCACGAATCAGGTTCAAACAACCCACTAGGTATTGTAGCCAACTCCGACAAAATCCCGTTCCACCCCTACTACTCCACAAAAGACATCCTGGGGTTCACACTCATACTCCTCCCACTAACAACCCTCGCCTTATTTTCACCCAACCTGCTGGGGGACCCAGAAAACTTTACTCCAGCAAACCCACTAGTCACACCTCCCCACATCAAACCAGAATGATATTTCCTATTCGCCTACGCCATCCTACGCTCAATTCCCAATAAACTAGGAGGAGTACTAGCCCTAGCCGCCTCCGTATTAGTTCTATTCTTAAGCCCCCTTCTCCACAAATCCAAACAACGCACAATAGCCTTCCGCCCACTCTCTCAACTCCTATTCTGAACCTTAGTCGCCAATCTACTCATCCTGACATGAATCGGCAGCCAACCAGTAGAACACCCATTCATCATCATTGGTCAACTAGCCTCCACCACCTACTTTATCATCCTCCTAATCCTCTTCCCCATTACCAGTGCCCTAGAAAACAAAATACTAAACTTCTAG\n",
      "Pygoscelis papua  =  ATGGCCCCCAACCTTCGAAAATCCCACCCTCTCCTAAAAATAATCAACAAATCCCTAATTGACCTACCCACCCCACCAAACATCTCTGCCTGATGAAACTTCGGATCTCTCCTAGGCATTTGCCTAATCACACAGATCCTAACTGGCCTCCTACTAGCCATACACTACACCGCAGACACAACCTTAGCCTTCTCCTCCATCGCCCACACATGCCGAAACGTACAATACGGCTGACTAATCCGCAACCTCCATGCAAACGGAGCCTCATTCTTCTTTATCTGCATCTACTTCCACATCGGCCGCGGGCTCTACTATGGCTCATACCTATACAAAGAAACCTGAAACACAGGCATCATCCTCCTACTTACCCTTATAGCAACTGCTTTCGTAGGCTATGTTCTACCATGAGGACAAATATCCTTCTGAGGGGCCACTGTTATCACCAACTTATTCTCAGCCATCCCTTACGTCGGCCAAACCCTCGTAGAATGAGCCTGAGGTGGTTTCTCAGTAGACAACCCCACATTAACCCGATTCTTTGCACTACACTTTCTTCTTCCCTTCATAATCACAGGCCTCACTCTCATCCACCTTACCTTCCTCCACGAATCAGGTTCAAACAACCCACTGGGCATTGTAGCCAACTCTGACAAAATCCCATTTCACCCATACTACTCCACAAAAGACATCCTAGGGTTCGCACTCATACTCCTTCCACTAACAACCCTCGCCTTATTTTCACCCAACTTACTAGGGGACCCAGAAAACTTTACCCCAGCAAACCCACTAGTCACACCCCCTCACATCAAACCAGAGTGATATTTCCTATTTGCATACGCCATCCTACGCTCAATTCCCAATAAACTAGGAGGAGTACTAGCCCTAGCCGCCTCCGTATTAATTCTATTCTTAAGCCCCCTTCTCCACAAATCCAAACAACGCACAATAGCCTTCCGCCCACTCTCTCAACTCCTATTCTGAACCTTAGTCGCCAATCTACTCATCCTGACATGAATCGGCAGCCAACCAGTAGAACACCCATTCATCATCATTGGTCAACTAGCCTCCACCACCTACTTTATCATCCTCCTAATCCTCTTCCCCATTACCAGTGCCCTAGAAAACAAAATACTAAACTTCTAG\n",
      "Spheniscus demersus  =  ATGGCCCCCAACCTCCGAAAATCCCACCCTCTCCTAAAAACAATCAACAACTCCCTAATCGACCTACCCACCCCATCAAACATTTCCGCCTGATGAAACTTTGGATCTCTCCTAGGCATCTGCTTAGCTACACAAATCCTAACTGGCCTCCTACTAGCTGCCCACTATACTGCAGACACAACCCTAGCCTTCTCATCTGTCGCCCACATATGCCGAAACGTACAATACGGCTGACTAATCCGCAACTTACACGCAAACGGAGCCTCATTCTTCTTTATCTGTATCTACCTGCATATCGGCCGCGGACTCTACTACGGCTCCTACCTATACAAAGAAACCTGAAACACAGGCATCATCCTCCTACTTACCCTCATAGCAACCGCCTTCGTAGGCTACGTCCTACCATGAGGCCAGATATCCTTTTGAGGAGCTACAGTCATTACTAACCTATTCTCAGCTATCCCTTACATTGGCCAAACTCTCGTAGAATGAGCTTGAGGCGGCTTCTCAGTAGACAACCCCACCCTAACCCGATTCTTCGCACTACACTTCCTTCTCCCCTTCATAATCACAGGCCTCACCCTCATCCACCTCACCTTCCTCCACGAATCAGGCTCAAACAATCCACTAGGTATCGTAGCCAACTCCGACAAAATCCCATTCCACCCCTACTACTCCACAAAAGATATTCTAGGATTTATACTCCTACTCCTTCCACTAACAACCTTAGCCCTATTCTCACCCAACCTATTAGGAGACCCAGAAAACTTCACCCCAGCAAACCCCCTAGTCACACCCCCACACATTAAACCAGAATGATACTTCCTATTTGCCTACGCCATCCTACGCTCAATCCCCAACAAACTAGGAGGAGTACTAGCCCTAGCAGCATCCGTACTAATCCTATTCCTAATACCCCTCCTCCACAAATCTAAACAGCGCACAATAGCCTTCCGTCCACTCTCCCAACTCCTGTTCTGAACCCTAGTAGCCAACCTCATTATCCTAACGTGAATTGGCAGCCAACCAGTAGAACATCCCTTCATTGCCATCGGCCAATTAGCCTCCTTCACCTACTTCACCACCCTCCTAATTCTCTTTCCCCTTGCCGGAGCCCTAGAAAACAAAATACTCAATCACTAA\n",
      "Spheniscus humboldti  =  ATGGCCCCCAACCTCCGAAAATCCCACCCTCTCCTAAAAACAATCAACAACTCCCTAATCGACCTGCCCACCCCATCAAACATTTCCGCCTGATGAAACTTTGGATCTCTCCTAAGCATCTGCCTAGCCACACAAATCCTAACTGGCCTCCTACTAGCCGCCCACTATACTGCAGACACAACCCTAGCCTTCTCATCCGTCGCCCACATATGCCGAAACGTACAATACGGCTGACTAATCCGCAACTTACACGCAAACGGAGCCTCATTCTTCTTTATCTGTATCTACCTACATATCGGCCGCGGACTCTACTACGGCTCCTACCTACACAAAGAAACCTGAAACACAGGCATCATCCTCCTACTTACCCTCATAGCAACCGCCTTCGTAGGCTACGTCCTACCATGAGGCCAGATATCCTTCTGAGGAGCCACAGTCATTACTAACCTATTCTCAGCTATCCCTTACATCGGTCAAACTCTCGTAGAATGAGCCTGAGGCGGCTTCTCAGTAGACAACCCCACCCTGACCCGATTCTTCGCACTACACTTCCTTCTCCCCTTCATAATCACAGGCCTCGCCCTCATCCACCTCACCTTCCTCCACGAATCAGGCTCAAACAATCCACTAGGTATCGTAGCCAACTCCGACAAAATCCCATTCCACCCCTACTACTCCACAAAAGATATTCTAGGATTTATACTCCTACTCCTTCCACTAACAACCCTAGCCCTATTCTCACCCAACCTATTAGGAGACCCAGAAAACTTCACCCCAGCAAACCCCCTAGTCACACCCCCACACATTAAACCAGAATGATACTTCCTATTTGCCTACGCTATCCTACGCTCAATCCCCAACAAACTAGGGGGAGTCCTAGCCCTAGCAGCATCCGTACTAATCCTATTCCTAATACCCCTCCTCCACAAATCTAAACAGCGCACAATAGCCTTCCGTCCACTCTCCCAACTCCTATTCTGAACCCTAGTAGCCAACCTCATTATCCTAACGTGAGTCGGCAGCCAACCAGTAGAACATCCCTTCATTATCATCGGCCAATTAGCCTCCCTCACCTACTTCACCACCCTCCTAATTCTCTTTCCCCTTGCCGGAGCCCTAGAAAACAAAATACTCAATCACTAA\n",
      "Spheniscus magellanicus  =  ATGGCCCCCAACCTCCGAAAATCCCACCCTCTCCTAAAAACAATCAACAACTCCCTAATCGACCTGCCCACCCCATCAAACATTTCCGCCTGATGAAACTTTGGATCTCTCCTAGGCATCTGCTTAGCCACACAAATCCTAACTGGCCTCCTACTAGCTGCCCACTATACTGCAGACACAACCCTAGCCTTCTCATCCGTCGCCCACATATGCCGAAACGTACAATACGGCTGACTAATCCGCAACTTACATGCAAACGGAGCCTCATTCTTCTTTATCTGTATCTACCTGCATATCGGCCGCGGACTCTACTACGGCTCCTACCTATACAAAGAAACCTGAAACACAGGCATCATCCTCCTACTTACCCTCATAGCAACCGCCTTCGTAGGCTACGTCCTACCATGAGGCCAGATATCCTTTTGAGGAGCCACAGTCATTACTAACCTATTCTCAGCTATCCCTTACATTGGCCAAACTCTCGTAGAATGAGCTTGAGGCGGCTTCTCAGTAGACAACCCCACTCTAACTCGATTCTTCGCACTACACTTCCTTCTCCCCTTCATAATCACAGGCCTCACCCTCATCCACCTCACCTTCCTCCACGAATCAGGCTCAAACAATCCACTAGGTATCGTAGCCAACTCCGACAAAATCCCATTCCACCCCTACTACTCCACAAAAGATATTCTAGGATTTATACTCCTACTCCTTCCACTAACAACCTTAGCCCTATTCTCACCCAACCTATTAGGAGACCCAGAAAACTTCACCCCAGCAAACCCCCTAGTCACACCCCCACACATTAAACCAGAATGATACTTCCTATTTGCCTACGCCATCCTACGCTCAATCCCCAACAAACTAGGAGGAGTCCTAGCCCTAGCAGCATCCGTACTAATCCTATTCCTAATACCCCTCCTCCACAAATCTAAACAGCGCACAATAGCCTTCCGTCCACTCTCCCAACTCCTATTCTGAACCCTAGTAGCCAACCTCATTATCCTAACGTGAGTTGGCAGCCAACCAGTAGAACATCCCTTCATTATCATCGGTCAATTAGCCTCCTTCACCTACTTCACCACCCTCCTAATTCTCTTTCCCCTTGCCGGAGCCCTAGAAAACAAAATACTCAATCACTAA\n"
     ]
    }
   ],
   "source": [
    "for key in sorted(our_sequences.keys()):\n",
    "    print(key, ' = ', our_sequences[key])"
   ]
  },
  {
   "cell_type": "markdown",
   "id": "76b19c9f",
   "metadata": {},
   "source": [
    "Online resource used to answer #1: \n",
    "1. https://github.com/biopython/biopython/blob/master/Bio/SeqIO/QualityIO.py\n",
    "2. https://eeob-biodata.github.io/BCB546X-python/02-datatypes/"
   ]
  },
  {
   "cell_type": "markdown",
   "id": "22b7ae23",
   "metadata": {},
   "source": [
    "## 2. Translating a string of nucleotides to amino acids: "
   ]
  },
  {
   "cell_type": "code",
   "execution_count": 5,
   "id": "214802c7",
   "metadata": {},
   "outputs": [
    {
     "name": "stdout",
     "output_type": "stream",
     "text": [
      "Table 1 Standard, SGC0\n",
      "\n",
      "  |  T      |  C      |  A      |  G      |\n",
      "--+---------+---------+---------+---------+--\n",
      "T | TTT F   | TCT S   | TAT Y   | TGT C   | T\n",
      "T | TTC F   | TCC S   | TAC Y   | TGC C   | C\n",
      "T | TTA L   | TCA S   | TAA Stop| TGA Stop| A\n",
      "T | TTG L(s)| TCG S   | TAG Stop| TGG W   | G\n",
      "--+---------+---------+---------+---------+--\n",
      "C | CTT L   | CCT P   | CAT H   | CGT R   | T\n",
      "C | CTC L   | CCC P   | CAC H   | CGC R   | C\n",
      "C | CTA L   | CCA P   | CAA Q   | CGA R   | A\n",
      "C | CTG L(s)| CCG P   | CAG Q   | CGG R   | G\n",
      "--+---------+---------+---------+---------+--\n",
      "A | ATT I   | ACT T   | AAT N   | AGT S   | T\n",
      "A | ATC I   | ACC T   | AAC N   | AGC S   | C\n",
      "A | ATA I   | ACA T   | AAA K   | AGA R   | A\n",
      "A | ATG M(s)| ACG T   | AAG K   | AGG R   | G\n",
      "--+---------+---------+---------+---------+--\n",
      "G | GTT V   | GCT A   | GAT D   | GGT G   | T\n",
      "G | GTC V   | GCC A   | GAC D   | GGC G   | C\n",
      "G | GTA V   | GCA A   | GAA E   | GGA G   | A\n",
      "G | GTG V   | GCG A   | GAG E   | GGG G   | G\n",
      "--+---------+---------+---------+---------+--\n"
     ]
    }
   ],
   "source": [
    "print(CodonTable.standard_dna_table) #checking out the standard codon chart. "
   ]
  },
  {
   "cell_type": "markdown",
   "id": "fabe4427",
   "metadata": {},
   "source": [
    "This will show you all of the different codon chart options. Penguins are vertebrates, so we want the vertebrate mitochondrial translation table: "
   ]
  },
  {
   "cell_type": "code",
   "execution_count": 6,
   "id": "a8467f98",
   "metadata": {},
   "outputs": [
    {
     "data": {
      "text/plain": [
       "{'Standard': NCBICodonTableDNA(id=1, names=['Standard', 'SGC0'], ...),\n",
       " 'SGC0': NCBICodonTableDNA(id=1, names=['Standard', 'SGC0'], ...),\n",
       " 'Vertebrate Mitochondrial': NCBICodonTableDNA(id=2, names=['Vertebrate Mitochondrial', 'SGC1'], ...),\n",
       " 'SGC1': NCBICodonTableDNA(id=2, names=['Vertebrate Mitochondrial', 'SGC1'], ...),\n",
       " 'Yeast Mitochondrial': NCBICodonTableDNA(id=3, names=['Yeast Mitochondrial', 'SGC2'], ...),\n",
       " 'SGC2': NCBICodonTableDNA(id=3, names=['Yeast Mitochondrial', 'SGC2'], ...),\n",
       " 'Mold Mitochondrial': NCBICodonTableDNA(id=4, names=['Mold Mitochondrial', 'Protozoan Mitochondrial', 'Coelenterate Mitochondrial', 'Mycoplasma', 'Spiroplasma', 'SGC3'], ...),\n",
       " 'Protozoan Mitochondrial': NCBICodonTableDNA(id=4, names=['Mold Mitochondrial', 'Protozoan Mitochondrial', 'Coelenterate Mitochondrial', 'Mycoplasma', 'Spiroplasma', 'SGC3'], ...),\n",
       " 'Coelenterate Mitochondrial': NCBICodonTableDNA(id=4, names=['Mold Mitochondrial', 'Protozoan Mitochondrial', 'Coelenterate Mitochondrial', 'Mycoplasma', 'Spiroplasma', 'SGC3'], ...),\n",
       " 'Mycoplasma': NCBICodonTableDNA(id=4, names=['Mold Mitochondrial', 'Protozoan Mitochondrial', 'Coelenterate Mitochondrial', 'Mycoplasma', 'Spiroplasma', 'SGC3'], ...),\n",
       " 'Spiroplasma': NCBICodonTableDNA(id=4, names=['Mold Mitochondrial', 'Protozoan Mitochondrial', 'Coelenterate Mitochondrial', 'Mycoplasma', 'Spiroplasma', 'SGC3'], ...),\n",
       " 'SGC3': NCBICodonTableDNA(id=4, names=['Mold Mitochondrial', 'Protozoan Mitochondrial', 'Coelenterate Mitochondrial', 'Mycoplasma', 'Spiroplasma', 'SGC3'], ...),\n",
       " 'Invertebrate Mitochondrial': NCBICodonTableDNA(id=5, names=['Invertebrate Mitochondrial', 'SGC4'], ...),\n",
       " 'SGC4': NCBICodonTableDNA(id=5, names=['Invertebrate Mitochondrial', 'SGC4'], ...),\n",
       " 'Ciliate Nuclear': NCBICodonTableDNA(id=6, names=['Ciliate Nuclear', 'Dasycladacean Nuclear', 'Hexamita Nuclear', 'SGC5'], ...),\n",
       " 'Dasycladacean Nuclear': NCBICodonTableDNA(id=6, names=['Ciliate Nuclear', 'Dasycladacean Nuclear', 'Hexamita Nuclear', 'SGC5'], ...),\n",
       " 'Hexamita Nuclear': NCBICodonTableDNA(id=6, names=['Ciliate Nuclear', 'Dasycladacean Nuclear', 'Hexamita Nuclear', 'SGC5'], ...),\n",
       " 'SGC5': NCBICodonTableDNA(id=6, names=['Ciliate Nuclear', 'Dasycladacean Nuclear', 'Hexamita Nuclear', 'SGC5'], ...),\n",
       " 'Echinoderm Mitochondrial': NCBICodonTableDNA(id=9, names=['Echinoderm Mitochondrial', 'Flatworm Mitochondrial', 'SGC8'], ...),\n",
       " 'Flatworm Mitochondrial': NCBICodonTableDNA(id=9, names=['Echinoderm Mitochondrial', 'Flatworm Mitochondrial', 'SGC8'], ...),\n",
       " 'SGC8': NCBICodonTableDNA(id=9, names=['Echinoderm Mitochondrial', 'Flatworm Mitochondrial', 'SGC8'], ...),\n",
       " 'Euplotid Nuclear': NCBICodonTableDNA(id=10, names=['Euplotid Nuclear', 'SGC9'], ...),\n",
       " 'SGC9': NCBICodonTableDNA(id=10, names=['Euplotid Nuclear', 'SGC9'], ...),\n",
       " 'Bacterial': NCBICodonTableDNA(id=11, names=['Bacterial', 'Archaeal', 'Plant Plastid', None], ...),\n",
       " 'Archaeal': NCBICodonTableDNA(id=11, names=['Bacterial', 'Archaeal', 'Plant Plastid', None], ...),\n",
       " 'Plant Plastid': NCBICodonTableDNA(id=11, names=['Bacterial', 'Archaeal', 'Plant Plastid', None], ...),\n",
       " 'Alternative Yeast Nuclear': NCBICodonTableDNA(id=12, names=['Alternative Yeast Nuclear', None], ...),\n",
       " 'Ascidian Mitochondrial': NCBICodonTableDNA(id=13, names=['Ascidian Mitochondrial', None], ...),\n",
       " 'Alternative Flatworm Mitochondrial': NCBICodonTableDNA(id=14, names=['Alternative Flatworm Mitochondrial', None], ...),\n",
       " 'Blepharisma Macronuclear': NCBICodonTableDNA(id=15, names=['Blepharisma Macronuclear', None], ...),\n",
       " 'Chlorophycean Mitochondrial': NCBICodonTableDNA(id=16, names=['Chlorophycean Mitochondrial', None], ...),\n",
       " 'Trematode Mitochondrial': NCBICodonTableDNA(id=21, names=['Trematode Mitochondrial', None], ...),\n",
       " 'Scenedesmus obliquus Mitochondrial': NCBICodonTableDNA(id=22, names=['Scenedesmus obliquus Mitochondrial', None], ...),\n",
       " 'Thraustochytrium Mitochondrial': NCBICodonTableDNA(id=23, names=['Thraustochytrium Mitochondrial', None], ...),\n",
       " 'Pterobranchia Mitochondrial': NCBICodonTableDNA(id=24, names=['Pterobranchia Mitochondrial', None], ...),\n",
       " 'Candidate Division SR1': NCBICodonTableDNA(id=25, names=['Candidate Division SR1', 'Gracilibacteria', None], ...),\n",
       " 'Gracilibacteria': NCBICodonTableDNA(id=25, names=['Candidate Division SR1', 'Gracilibacteria', None], ...),\n",
       " 'Pachysolen tannophilus Nuclear': NCBICodonTableDNA(id=26, names=['Pachysolen tannophilus Nuclear', None], ...),\n",
       " 'Karyorelict Nuclear': NCBICodonTableDNA(id=27, names=['Karyorelict Nuclear', None], ...),\n",
       " 'Condylostoma Nuclear': NCBICodonTableDNA(id=28, names=['Condylostoma Nuclear', None], ...),\n",
       " 'Mesodinium Nuclear': NCBICodonTableDNA(id=29, names=['Mesodinium Nuclear', None], ...),\n",
       " 'Peritrich Nuclear': NCBICodonTableDNA(id=30, names=['Peritrich Nuclear', None], ...),\n",
       " 'Blastocrithidia Nuclear': NCBICodonTableDNA(id=31, names=['Blastocrithidia Nuclear', None], ...),\n",
       " 'Balanophoraceae Plastid': NCBICodonTableDNA(id=32, names=['Balanophoraceae Plastid', None], ...),\n",
       " 'Cephalodiscidae Mitochondrial': NCBICodonTableDNA(id=33, names=['Cephalodiscidae Mitochondrial', None], ...)}"
      ]
     },
     "execution_count": 6,
     "metadata": {},
     "output_type": "execute_result"
    }
   ],
   "source": [
    "CodonTable.unambiguous_dna_by_name "
   ]
  },
  {
   "cell_type": "markdown",
   "id": "8c83f19e",
   "metadata": {},
   "source": [
    "Lets check what the \"Vertebrate Mitochondrial\" table looks like: "
   ]
  },
  {
   "cell_type": "code",
   "execution_count": 7,
   "id": "0982479c",
   "metadata": {},
   "outputs": [
    {
     "name": "stdout",
     "output_type": "stream",
     "text": [
      "Table 2 Vertebrate Mitochondrial, SGC1\n",
      "\n",
      "  |  T      |  C      |  A      |  G      |\n",
      "--+---------+---------+---------+---------+--\n",
      "T | TTT F   | TCT S   | TAT Y   | TGT C   | T\n",
      "T | TTC F   | TCC S   | TAC Y   | TGC C   | C\n",
      "T | TTA L   | TCA S   | TAA Stop| TGA W   | A\n",
      "T | TTG L   | TCG S   | TAG Stop| TGG W   | G\n",
      "--+---------+---------+---------+---------+--\n",
      "C | CTT L   | CCT P   | CAT H   | CGT R   | T\n",
      "C | CTC L   | CCC P   | CAC H   | CGC R   | C\n",
      "C | CTA L   | CCA P   | CAA Q   | CGA R   | A\n",
      "C | CTG L   | CCG P   | CAG Q   | CGG R   | G\n",
      "--+---------+---------+---------+---------+--\n",
      "A | ATT I(s)| ACT T   | AAT N   | AGT S   | T\n",
      "A | ATC I(s)| ACC T   | AAC N   | AGC S   | C\n",
      "A | ATA M(s)| ACA T   | AAA K   | AGA Stop| A\n",
      "A | ATG M(s)| ACG T   | AAG K   | AGG Stop| G\n",
      "--+---------+---------+---------+---------+--\n",
      "G | GTT V   | GCT A   | GAT D   | GGT G   | T\n",
      "G | GTC V   | GCC A   | GAC D   | GGC G   | C\n",
      "G | GTA V   | GCA A   | GAA E   | GGA G   | A\n",
      "G | GTG V(s)| GCG A   | GAG E   | GGG G   | G\n",
      "--+---------+---------+---------+---------+--\n"
     ]
    }
   ],
   "source": [
    "mito_table = CodonTable.unambiguous_dna_by_name[\"Vertebrate Mitochondrial\"]\n",
    "print(mito_table)"
   ]
  },
  {
   "cell_type": "markdown",
   "id": "067ad83c",
   "metadata": {},
   "source": [
    "Next, we want to make a new function that will apply the vertebrate mitochondiral codon chart to translating our sequences to amino acids. Then, we want to make a for loop to apply it to the different records:\n",
    "\n",
    "line 1: the function, as previously described. \n",
    "\n",
    "Line 2: creating an empty string for later use\n",
    "\n",
    "Line 3: this is the correct codon chart that will be used to translate codons to aa's.\n",
    "\n",
    "Line 4: if the length of nucleotide_string is zero when divided by 3, \n",
    "\n",
    "Line 5: for zero to 3 in that string (0 is 1 in Python), \n",
    "\n",
    "Line 6: a codon is i plus 3, for a total of 3 subquential bases.\n",
    "\n",
    "Line 7: step for potential troubleshooting. \n",
    "\n",
    "Line 8: if the codon is not a stop codon (stop_codons is the list of stop codons found in the mito_table)\n",
    "\n",
    "Line 9: getting our amino acid and adding it onto aa_seq_string. \n",
    "\n",
    "Line 10: where our (string) output will go. "
   ]
  },
  {
   "cell_type": "code",
   "execution_count": 8,
   "id": "ce9da24b",
   "metadata": {},
   "outputs": [],
   "source": [
    "def translate_function(string_nucleotides): \n",
    "    aa_seq_string = '' \n",
    "    mito_table = CodonTable.unambiguous_dna_by_name[\"Vertebrate Mitochondrial\"] \n",
    "    for i in range(0, len(string_nucleotides), 3): \n",
    "        codon = string_nucleotides[i:i +3] \n",
    "        print(codon)\n",
    "        if codon not in mito_table.stop_codons: \n",
    "            aa_seq_string += mito_table.forward_table[codon] \n",
    "    return(aa_seq_string) "
   ]
  },
  {
   "cell_type": "markdown",
   "id": "29f3b3b9",
   "metadata": {},
   "source": [
    "Lets test it out!: "
   ]
  },
  {
   "cell_type": "code",
   "execution_count": 9,
   "id": "f476126a",
   "metadata": {},
   "outputs": [
    {
     "name": "stdout",
     "output_type": "stream",
     "text": [
      "ATG\n",
      "GCC\n",
      "CCC\n",
      "AAC\n",
      "CTC\n",
      "CGA\n",
      "AAA\n",
      "TCC\n",
      "CAC\n",
      "CCC\n",
      "CTC\n",
      "CTA\n",
      "AAA\n",
      "ACA\n",
      "ATC\n",
      "AAT\n",
      "AAC\n",
      "TCC\n",
      "CTA\n",
      "ATC\n",
      "GAC\n",
      "CTA\n",
      "CCC\n",
      "ACC\n",
      "CCA\n",
      "TCA\n",
      "AAC\n",
      "ATC\n",
      "TCT\n",
      "GCC\n",
      "TGA\n",
      "TGA\n",
      "AAC\n",
      "TTC\n",
      "GGA\n",
      "TCT\n",
      "CTC\n",
      "CTG\n",
      "GGC\n",
      "ATC\n",
      "TGC\n",
      "CTA\n",
      "GCT\n",
      "ACA\n",
      "CAA\n",
      "ATC\n",
      "CTA\n",
      "ACC\n",
      "GGC\n",
      "CTC\n",
      "TTA\n",
      "CTA\n",
      "GCT\n",
      "GCC\n",
      "CAC\n",
      "TAC\n",
      "ACC\n",
      "GCA\n",
      "GAC\n",
      "ACC\n",
      "ACC\n",
      "TTA\n",
      "GCC\n",
      "TTC\n",
      "TCC\n",
      "TCC\n",
      "GTC\n",
      "GCC\n",
      "CAT\n",
      "ACA\n",
      "TGC\n",
      "CGA\n",
      "AAT\n",
      "GTA\n",
      "CAA\n",
      "TAC\n",
      "GGC\n",
      "TGA\n",
      "TTA\n",
      "ATC\n",
      "CGC\n",
      "AAT\n",
      "CTA\n",
      "CAC\n",
      "GCA\n",
      "AAC\n",
      "GGG\n",
      "GCC\n",
      "TCA\n",
      "TTC\n",
      "TTC\n",
      "TTC\n",
      "ATC\n",
      "TGC\n",
      "ATC\n",
      "TAC\n",
      "CTC\n",
      "CAC\n",
      "ATC\n",
      "GGT\n",
      "CGC\n",
      "GGA\n",
      "CTC\n",
      "TAC\n",
      "TAC\n",
      "GGC\n",
      "TCC\n",
      "TAC\n",
      "CTG\n",
      "TAC\n",
      "AAA\n",
      "GAA\n",
      "ACC\n",
      "TGA\n",
      "AAC\n",
      "ACA\n",
      "GGC\n",
      "ATT\n",
      "ATC\n",
      "CTC\n",
      "CTA\n",
      "CTC\n",
      "ACC\n",
      "CTC\n",
      "ATA\n",
      "GCA\n",
      "ACC\n",
      "GCC\n",
      "TTC\n",
      "GTA\n",
      "GGC\n",
      "TAT\n",
      "GTC\n",
      "CTA\n",
      "CCA\n",
      "TGA\n",
      "GGT\n",
      "CAG\n",
      "ATA\n",
      "TCC\n",
      "TTC\n",
      "TGA\n",
      "GGG\n",
      "GCC\n",
      "ACA\n",
      "GTC\n",
      "ATC\n",
      "ACC\n",
      "AAC\n",
      "CTA\n",
      "TTC\n",
      "TCA\n",
      "GCC\n",
      "ATC\n",
      "CCC\n",
      "TAC\n",
      "ATC\n",
      "GGC\n",
      "CAA\n",
      "ACC\n",
      "CTC\n",
      "GTA\n",
      "GAG\n",
      "TGG\n",
      "GCC\n",
      "TGA\n",
      "GGC\n",
      "GGC\n",
      "TTC\n",
      "TCA\n",
      "GTA\n",
      "GAC\n",
      "AAC\n",
      "CCC\n",
      "ACA\n",
      "CTA\n",
      "ACC\n",
      "CGA\n",
      "TTC\n",
      "TTC\n",
      "ACA\n",
      "CTA\n",
      "CAC\n",
      "TTC\n",
      "CTT\n",
      "CTC\n",
      "CCC\n",
      "TTC\n",
      "ATA\n",
      "ATC\n",
      "GCA\n",
      "GGC\n",
      "CTC\n",
      "ACC\n",
      "TTA\n",
      "ATC\n",
      "CAC\n",
      "CTC\n",
      "ACC\n",
      "TTC\n",
      "CTC\n",
      "CAC\n",
      "GAA\n",
      "TCA\n",
      "GGC\n",
      "TCA\n",
      "AAC\n",
      "AAC\n",
      "CCC\n",
      "CTA\n",
      "GGC\n",
      "ATC\n",
      "GTA\n",
      "GCC\n",
      "AAC\n",
      "TCC\n",
      "GAC\n",
      "AAA\n",
      "ATC\n",
      "CCA\n",
      "TTC\n",
      "CAC\n",
      "CCC\n",
      "TAC\n",
      "TAC\n",
      "TCT\n",
      "ACA\n",
      "AAA\n",
      "GAT\n",
      "ATC\n",
      "CTA\n",
      "GGA\n",
      "TTT\n",
      "ATC\n",
      "CTC\n",
      "CTA\n",
      "CTC\n",
      "CTT\n",
      "CCA\n",
      "CTA\n",
      "ACA\n",
      "ACC\n",
      "CTT\n",
      "GCC\n",
      "CTA\n",
      "TTC\n",
      "TCA\n",
      "CCC\n",
      "AAC\n",
      "TTG\n",
      "CTA\n",
      "GGA\n",
      "GAC\n",
      "CCA\n",
      "GAA\n",
      "AAC\n",
      "TTC\n",
      "ACC\n",
      "CCA\n",
      "GCA\n",
      "AAC\n",
      "CCC\n",
      "CTA\n",
      "GTC\n",
      "ACA\n",
      "CCC\n",
      "CCA\n",
      "CAT\n",
      "ATC\n",
      "AAA\n",
      "CCA\n",
      "GAG\n",
      "TGG\n",
      "TAC\n",
      "TTC\n",
      "CTA\n",
      "TTT\n",
      "GCA\n",
      "TAC\n",
      "GCT\n",
      "ATC\n",
      "CTA\n",
      "CGC\n",
      "TCA\n",
      "ATC\n",
      "CCC\n",
      "AAC\n",
      "AAA\n",
      "CTG\n",
      "GGA\n",
      "GGA\n",
      "GTC\n",
      "CTA\n",
      "GCC\n",
      "CTA\n",
      "GCA\n",
      "GCA\n",
      "TCA\n",
      "GTA\n",
      "CTA\n",
      "ATC\n",
      "CTG\n",
      "TTC\n",
      "CTA\n",
      "ATC\n",
      "CCC\n",
      "CTC\n",
      "CTC\n",
      "CAC\n",
      "AAA\n",
      "TCC\n",
      "AAG\n",
      "CAG\n",
      "CGC\n",
      "ACA\n",
      "ATA\n",
      "ACC\n",
      "TTC\n",
      "CGC\n",
      "CCC\n",
      "CTC\n",
      "TCC\n",
      "CAA\n",
      "CTT\n",
      "CTA\n",
      "TTC\n",
      "TGA\n",
      "ACC\n",
      "CTA\n",
      "GTG\n",
      "GCC\n",
      "AAC\n",
      "CTC\n",
      "ACC\n",
      "ATC\n",
      "CTA\n",
      "ACA\n",
      "TGA\n",
      "ATC\n",
      "GGC\n",
      "AGC\n",
      "CAA\n",
      "CCA\n",
      "GTA\n",
      "GAG\n",
      "CAC\n",
      "CCC\n",
      "TTC\n",
      "ATC\n",
      "ATC\n",
      "ATC\n",
      "GGC\n",
      "CAA\n",
      "CTA\n",
      "GCC\n",
      "TCC\n",
      "CTT\n",
      "ACC\n",
      "TAC\n",
      "TTC\n",
      "ACC\n",
      "ATC\n",
      "CTC\n",
      "CTA\n",
      "ATC\n",
      "CTC\n",
      "TTC\n",
      "CCC\n",
      "CTC\n",
      "ATC\n",
      "GGG\n",
      "ACC\n",
      "CTA\n",
      "GAA\n",
      "AAC\n",
      "AAG\n",
      "ATA\n",
      "CTC\n",
      "AAC\n",
      "CAC\n",
      "TAA\n"
     ]
    },
    {
     "data": {
      "text/plain": [
       "'MAPNLRKSHPLLKTINNSLIDLPTPSNISAWWNFGSLLGICLATQILTGLLLAAHYTADTTLAFSSVAHTCRNVQYGWLIRNLHANGASFFFICIYLHIGRGLYYGSYLYKETWNTGIILLLTLMATAFVGYVLPWGQMSFWGATVITNLFSAIPYIGQTLVEWAWGGFSVDNPTLTRFFTLHFLLPFMIAGLTLIHLTFLHESGSNNPLGIVANSDKIPFHPYYSTKDILGFILLLLPLTTLALFSPNLLGDPENFTPANPLVTPPHIKPEWYFLFAYAILRSIPNKLGGVLALAASVLILFLIPLLHKSKQRTMTFRPLSQLLFWTLVANLTILTWIGSQPVEHPFIIIGQLASLTYFTILLILFPLIGTLENKMLNH'"
      ]
     },
     "execution_count": 9,
     "metadata": {},
     "output_type": "execute_result"
    }
   ],
   "source": [
    "translate_function(our_sequences[\"Eudyptes chrysocome\"])"
   ]
  },
  {
   "cell_type": "markdown",
   "id": "43aded95",
   "metadata": {},
   "source": [
    "Online resource used to answer #2:\n",
    "1. https://www.geeksforgeeks.org/dna-protein-python-3/\n",
    "2. https://johnlekberg.com/blog/2020-09-19-dict-view.html\n",
    "3. https://kodify.net/python/if-else/if-in/\n",
    "4. https://eeob-biodata.github.io/BCB546X-python/02-datatypes/"
   ]
  },
  {
   "cell_type": "markdown",
   "id": "abc4d36f",
   "metadata": {},
   "source": [
    "## 3. Alternative function for amino acid translation: "
   ]
  },
  {
   "cell_type": "code",
   "execution_count": 10,
   "id": "e2b0b46f",
   "metadata": {},
   "outputs": [],
   "source": [
    "import Bio \n",
    "def alternative_function(string_nucleotides): # our function, as previously decribed. \n",
    "    aa = Bio.Seq.translate(string_nucleotides, \n",
    "                      table=\"Vertebrate Mitochondrial\", \n",
    "                      to_stop=True, \n",
    "                      cds=True, \n",
    "                      gap=None)\n",
    "    translated_codon = str(aa) #return as a string\n",
    "    return(translated_codon)"
   ]
  },
  {
   "cell_type": "markdown",
   "id": "28b57697",
   "metadata": {},
   "source": [
    "The code above is using Biopython utilities to translate the codon to the appropriate amino acid. The table we are using is the appropriate table for vertebrates (our penguins). By saying to_stop=True, we are telling python to stop translating once we reach a stop codon. Additionally, cds=True makes sure that the sequence starts with an M (start codon), the sequence length is a multiple of 3, and that there is only 1 stop codon in the open reading frame. "
   ]
  },
  {
   "cell_type": "markdown",
   "id": "4be14a81",
   "metadata": {},
   "source": [
    "Testing it out: "
   ]
  },
  {
   "cell_type": "code",
   "execution_count": 11,
   "id": "f933ecb4",
   "metadata": {},
   "outputs": [
    {
     "name": "stdout",
     "output_type": "stream",
     "text": [
      "MAPNLRKSHPLLKTINNSLIDLPTPSNISAWWNFGSLLGICLATQILTGLLLAAHYTADTTLAFSSVAHTCRNVQYGWLIRNLHANGASFFFICIYLHIGRGLYYGSYLYKETWNTGIILLLTLMATAFVGYVLPWGQMSFWGATVITNLFSAIPYIGQTLVEWAWGGFSVDNPTLTRFFTLHFLLPFMIAGLTLIHLTFLHESGSNNPLGIVANSDKIPFHPYYSTKDILGFILLLLPLTTLALFSPNLLGDPENFTPANPLVTPPHIKPEWYFLFAYAILRSIPNKLGGVLALAASVLILFLIPLLHKSKQRTMTFRPLSQLLFWTLVANLTILTWIGSQPVEHPFIIIGQLASLTYFTILLILFPLIGTLENKMLNH\n"
     ]
    },
    {
     "data": {
      "text/plain": [
       "str"
      ]
     },
     "execution_count": 11,
     "metadata": {},
     "output_type": "execute_result"
    }
   ],
   "source": [
    "aa_seq_Eudyptes_chrysocome = alternative_function(our_sequences[\"Eudyptes chrysocome\"])\n",
    "print(aa_seq_Eudyptes_chrysocome)\n",
    "type(aa_seq_Eudyptes_chrysocome)"
   ]
  },
  {
   "cell_type": "markdown",
   "id": "16c6c02b",
   "metadata": {},
   "source": [
    "Resources used to answer #3: \n",
    "1. https://biopython.org/docs/1.75/api/Bio.Seq.html\n",
    "2. https://stackoverflow.com/questions/12037492/importerror-no-module-named-bio\n",
    "3. https://eeob-biodata.github.io/BCB546X-python/02-datatypes/"
   ]
  },
  {
   "cell_type": "markdown",
   "id": "7db1f231",
   "metadata": {},
   "source": [
    "## 4. Count amino acid analysis function: "
   ]
  },
  {
   "cell_type": "markdown",
   "id": "754e60c5",
   "metadata": {},
   "source": [
    "Explanation of code below: \n",
    "\n",
    "Here, we are defining a function that uses ProtParam analysis tools to calculate the molecular weight. ProteinAnalysis takes the string amino acid sequence and builds a sequence object. molecular_weight calculated the molecular weight of the protein. The output is returned to aa_mw.  "
   ]
  },
  {
   "cell_type": "code",
   "execution_count": 12,
   "id": "9cdb3c4e",
   "metadata": {},
   "outputs": [],
   "source": [
    "def compute_molecular_weight(aa_seq):\n",
    "    analysed_seq = ProteinAnalysis(aa_seq)\n",
    "    aa_mw = analysed_seq.molecular_weight()\n",
    "    return aa_mw"
   ]
  },
  {
   "cell_type": "code",
   "execution_count": 13,
   "id": "bd8cb43e",
   "metadata": {},
   "outputs": [
    {
     "data": {
      "text/plain": [
       "42475.5753"
      ]
     },
     "execution_count": 13,
     "metadata": {},
     "output_type": "execute_result"
    }
   ],
   "source": [
    "compute_molecular_weight(aa_seq_Eudyptes_chrysocome)"
   ]
  },
  {
   "cell_type": "markdown",
   "id": "642b539b",
   "metadata": {},
   "source": [
    "Try it out: "
   ]
  },
  {
   "cell_type": "markdown",
   "id": "3e48061a",
   "metadata": {},
   "source": [
    "Resources used to answer #4: \n",
    "1. https://biopython.org/wiki/ProtParam"
   ]
  },
  {
   "cell_type": "markdown",
   "id": "e50515bd",
   "metadata": {},
   "source": [
    "## 5. GC content analysis function: "
   ]
  },
  {
   "cell_type": "markdown",
   "id": "6fbc84b7",
   "metadata": {},
   "source": [
    "Explanation of the code below:\n",
    "\n",
    "line 1: assigning a funtion\n",
    "\n",
    "line 2: getting the total sequence length from a string of nucleotides. \n",
    "\n",
    "line 3, 4 and 5: Writing a for loop that looks at the bases within out string of nucleotides, and counts the number of times that 'GC' shows up within the sequence. Next, we take that number, divide by the total, and multiple that by 100 to get a percentage. \n",
    "\n",
    "line 6: this output is returned to GC_content. "
   ]
  },
  {
   "cell_type": "code",
   "execution_count": 14,
   "id": "d0a9129d",
   "metadata": {},
   "outputs": [],
   "source": [
    "def GC_content(string_nucleotides): #function\n",
    "    total = len(string_nucleotides) \n",
    "    for base in string_nucleotides:\n",
    "        GC_count = string_nucleotides.count('GC')\n",
    "    GC_content = (GC_count/(total))*100\n",
    "    return(GC_content)"
   ]
  },
  {
   "cell_type": "markdown",
   "id": "20ebd999",
   "metadata": {},
   "source": [
    "Try it out: "
   ]
  },
  {
   "cell_type": "code",
   "execution_count": 15,
   "id": "9c16a8dc",
   "metadata": {},
   "outputs": [
    {
     "data": {
      "text/plain": [
       "4.636920384951881"
      ]
     },
     "execution_count": 15,
     "metadata": {},
     "output_type": "execute_result"
    }
   ],
   "source": [
    "GC_content(our_sequences[\"Eudyptes chrysocome\"])"
   ]
  },
  {
   "cell_type": "markdown",
   "id": "dae0c77c",
   "metadata": {},
   "source": [
    "Resources used for question #5: \n",
    "1. https://eeob-biodata.github.io/BCB546X-python/06-biopython/\n",
    "2. https://stackoverflow.com/questions/16908475/beginner-python-script-for-calculating-gc-content-in-dna-sequence"
   ]
  },
  {
   "cell_type": "markdown",
   "id": "d9a204c5",
   "metadata": {},
   "source": [
    "# Main"
   ]
  },
  {
   "cell_type": "code",
   "execution_count": 16,
   "id": "b9c46551",
   "metadata": {},
   "outputs": [],
   "source": [
    "cytb_seqs = get_sequences_from_file(\"penguins_cytb.fasta\") \n",
    "penguins_df = pd.read_csv (\"penguins_mass.txt\")# Includes only data for body mass \n",
    "species_list = list(penguins_df.species)"
   ]
  },
  {
   "cell_type": "markdown",
   "id": "ba63b6d9",
   "metadata": {},
   "source": [
    "## 6. Adding columns to the penguin data frame: "
   ]
  },
  {
   "cell_type": "code",
   "execution_count": 17,
   "id": "bf512723",
   "metadata": {},
   "outputs": [
    {
     "name": "stdout",
     "output_type": "stream",
     "text": [
      "                    species   mass  Molecular_Weight  GC_content\n",
      "0      Aptenodytes forsteri  28.00               NaN         NaN\n",
      "1   Aptenodytes patagonicus  13.40               NaN         NaN\n",
      "2       Eudyptes chrysocome   2.80               NaN         NaN\n",
      "3     Eudyptes chrysolophus   4.50               NaN         NaN\n",
      "4         Eudyptes sclateri   4.25               NaN         NaN\n",
      "5           Eudyptula minor   1.60               NaN         NaN\n",
      "6        Pygoscelis adeliae   4.60               NaN         NaN\n",
      "7     Pygoscelis antarctica   4.10               NaN         NaN\n",
      "8          Pygoscelis papua   6.10               NaN         NaN\n",
      "9       Spheniscus demersus   3.20               NaN         NaN\n",
      "10     Spheniscus humboldti   4.75               NaN         NaN\n",
      "11  Spheniscus magellanicus   3.40               NaN         NaN\n"
     ]
    }
   ],
   "source": [
    "import numpy as np \n",
    "penguins_df['Molecular_Weight'] = np.nan\n",
    "penguins_df['GC_content'] = np.nan\n",
    "print(penguins_df)"
   ]
  },
  {
   "cell_type": "markdown",
   "id": "6f52717d",
   "metadata": {},
   "source": [
    "Resources used for question # 6: \n",
    "1. https://eeob-biodata.github.io/BCB546X-python/04-more-dataframes/"
   ]
  },
  {
   "cell_type": "markdown",
   "id": "96c9d7ff",
   "metadata": {},
   "source": [
    "## 7. The for-loop: "
   ]
  },
  {
   "cell_type": "markdown",
   "id": "16f6a1f2",
   "metadata": {},
   "source": [
    "Description of the code below: \n",
    "\n",
    "line 1: the start of the loop. For each key value (sequence stored in each key), retrieved from the original penguins_cytb.fasta:\n",
    "\n",
    "line 2: using the alternative fcn previusly created to translate each sequence. \n",
    "\n",
    "line 3: I like to print out the output in case I need to troubleshoot (again). \n",
    "\n",
    "line 4: using our previous GC content function to calculate GC content in our file.\n",
    "\n",
    "line 5: .loc is used to access rows and columns by labels, whether that be to retrieve those values or replace them. We want our molecular weight and GC content values to match the species, so for each row(penguins_df.species), in the 'GC_content' column.\n",
    "\n",
    "line 6: using the previous function made for calculating the molecular weight. For this, I had to convert aa_seq to a string in order to apply the function. \n",
    "\n",
    "line 6: making sure that it looks good, and that it's being done to all sequences.\n",
    "\n",
    "line 7: same as line 5, but for molecular weight. "
   ]
  },
  {
   "cell_type": "code",
   "execution_count": 18,
   "id": "ed6a0f2d",
   "metadata": {},
   "outputs": [
    {
     "name": "stdout",
     "output_type": "stream",
     "text": [
      "MAPNLRKSHPLLKMINNSLIDLPTPSNISAWWNFGSLLGICLTTQILTGLLLAMHYTADTTLAFSSVAHTCRNVQYGWLIRNLHANGASFFFICIYLHIGRGFYYGSYLYKETWNTGIILLLTLMATAFVGYVLPWGQMSFWGATVITNLFSAIPYIGQTLVEWTWGGFSVDNPTLTRFFALHFLLPFMIAGLTLIHLTFLHESGSNNPLGIVANSDKIPFHPYYSTKDILGFALMLLPLTTLALFSPNLLGDPENFTPANPLVTPPHIKPEWYFLFAYAILRSIPNKLGGVLALAASVLILFLIPLLHKSKQRTMAFRPLSQLLFWALVANLIILTWVGSQPVEHPFIIIGQLASLTYFTTLLILFPIAGALENKMLNH\n",
      "42459.602100000004\n",
      "MAPNLRKSHPLLKMINNSLIDLPTPSNISAWWNFGSLLGICLTTQILTGLLLAMHYTADTTLAFSSVAHTCRNVQYGWLIRNLHANGASFFFICIYLHIGRGFYYGSYLYKETWNTGIILLLTLMATAFVGYVLPWGQMSFWGATVITNLFSAIPYIGQTLVEWAWGGFSVDNPTLTRFFALHFLLPFMIAGLTLIHLTFLHESGSNNPLGIVANSDKIPFHPYYSTKDTLGFALMLLPLTTLALFSPNLLGDPENFTPANPLVTPPHIKPEWYFLFAYAILRSIPNKLGGVLALAASVLILFLIPLLHKSKQRTMTFRPLSQLLFWTLVANLTILTWIGSQPVEHPFIIIGQLASLTYFTILLILFPLIGTLENKMLNH\n",
      "42563.70669999999\n",
      "MAPNLRKSHPLLKTINNSLIDLPTPSNISAWWNFGSLLGICLATQILTGLLLAAHYTADTTLAFSSVAHTCRNVQYGWLIRNLHANGASFFFICIYLHIGRGLYYGSYLYKETWNTGIILLLTLMATAFVGYVLPWGQMSFWGATVITNLFSAIPYIGQTLVEWAWGGFSVDNPTLTRFFTLHFLLPFMIAGLTLIHLTFLHESGSNNPLGIVANSDKIPFHPYYSTKDILGFILLLLPLTTLALFSPNLLGDPENFTPANPLVTPPHIKPEWYFLFAYAILRSIPNKLGGVLALAASVLILFLIPLLHKSKQRTMTFRPLSQLLFWTLVANLTILTWIGSQPVEHPFIIIGQLASLTYFTILLILFPLIGTLENKMLNH\n",
      "42475.5753\n",
      "MAPNLRKSHPLLKTINNSLIDLPTPSNISAWWNFGSLLGICLATQILTGLLLAAHYTADTTLAFSSVAHTCRNVQYGWLIRNLHANGASFFFICIYLHIGRGLYYGSYLYKETWNTGIILLLTLMATAFVGYVLPWGQMSFWGATVITNLFSAIPYIGQTLVEWAWGGFSVDNPTLTRFFTLHFLLPFMIAGLTLIHLTFLHESGSNNPLGIVANSDKIPFHPYYSTKDILGFILLLLPLTALALFSPNLLGDPENFTPANPLVTPPHIKPEWYFLFAYAILRSIPNKLGGVLALAASVLILFLIPLLHKSKQRTMTFRPLSQLLFWTLVANLTILTWIGSQPVEHPFIIIGQLASLTYFTILLILFPLIGTLENKMLNH\n",
      "42445.54929999999\n",
      "MAPNLRKSHPLLKTINNSLIDLPTPSNISAWWNFGSLLGICLATQILTGLLLAAHYTADTTLAFSSVAHTCRNVQYGWLIRNLHANGASFFFICIYLHIGRGLYYGSYLYKETWNTGIILLLTLMATAFVGYVLPWGQMSFWGATVITNLFSAIPYIGQTLVEWAWGGFSVDNPTLTRFFTLHFLLPFMIAGLTLIHLTFLHESGSNNPLGIVANSDKIPFHPYYSTKDILGFILLLLPLTTLALFSPNLLGDPENFTPANPLVTPPHIKPEWYFLFAYAILRSIPNKLGGVLALAASVLILFLIPLLHKSKQRTMTFRPLSQLLFWTLVANLTILTWIGSQPVEHPFIIIGQLASLTYFTILLILFPLIGTLENKMLNH\n",
      "42475.5753\n",
      "MAPNLRKSHPLLKMINNSLIDLPTPSNISTWWNFGSLLGICLITQILTGLLLAAHYTADTTLAFSSIAHTCRNVQYGWLIRNLHANGASFFFICIYLHIGRGLYYGSYLYKETWNTGIILLITLMATAFVGYVLPWGQMSFWGATVITNLFSAIPYIGQTLVEWAWGGFSVDNPTLTRFFALHFLLPFMITGLTLIHLTFLHESGSNNPLGIVANSDKIPFHPYYSTKDILGFILLLLPLTTLALFSPNLLGDPENFTPANPLVTPPHIKPEWYFLFAYAILRSIPNKLGGVLALAASVLILFLIPLLHKSKQRSMAFRPLSQLLFWTLVANLTILTWVGNQPVEHPFIIIGQLASLTYFTILLILFPLAGTLENKMLSH\n",
      "42491.64080000001\n",
      "MAPNLRKSHPLLKMINNSLIDLPTPSNISAWWNFGSLLGICLTTQILTGLLLAMHYTADTTLAFSSIAHTCRDVQYGWLIRNLHANGASFFFICIYLHIGRGLYYGSYLYKETWNTGIILLLTLMATAFVGYVLPWGQMSFWGATVITNLFSAIPYIGQTLVEWAWGGFSVDNPTLTRFFALHFLLPFVIMGLTLIHLTFLHESGSNNPLGIVANSDKIPFHPYYSTKDILGFAFMLLPLTTLALFSPNLLGDPENFTPANPLVTPPHIKPEWYFLFAYAILRSIPNKLGGVLALAASVLILFLIPLLHKSKQRTMAFRPLSQLLFWALVANLAILTWVGSQPVEHPFIIIGQLASLTYFTILLILFPSIGALENKMLNH\n",
      "42458.61400000001\n",
      "MAPNLRKSHPLLKMINNSLIDLPTPSNISAWWNFGSLLGICLTTQILTGLLLAMHYTADTTLAFSSIAHTCRDVQYGWLIRNMHANGASLLFICIYLHIGRGVYDGSYLHKETWNTGVILLLTLMATAFVGYVLPWGQMSFWGATVITNLFSAIPYIGQTIVEWAWGGFSVDNPTLTRFFALHFLLPFMITGLTLIHLTFLHESGSNNPLGIVANSDKIPFHPYYSTKDILGFTLMLLPLTTLALFSPNLLGDPENFTPANPLVTPPHIKPEWYFLFAYAILRSIPNKLGGVLALAASVLVLFLSPLLHKSKQRTMAFRPLSQLLFWTLVANLLILTWIGSQPVEHPFIIIGQLASTTYFIILLILFPITSALENKMLNF\n",
      "42404.54230000001\n",
      "MAPNLRKSHPLLKMINKSLIDLPTPPNISAWWNFGSLLGICLITQILTGLLLAMHYTADTTLAFSSIAHTCRNVQYGWLIRNLHANGASFFFICIYFHIGRGLYYGSYLYKETWNTGIILLLTLMATAFVGYVLPWGQMSFWGATVITNLFSAIPYVGQTLVEWAWGGFSVDNPTLTRFFALHFLLPFMITGLTLIHLTFLHESGSNNPLGIVANSDKIPFHPYYSTKDILGFALMLLPLTTLALFSPNLLGDPENFTPANPLVTPPHIKPEWYFLFAYAILRSIPNKLGGVLALAASVLILFLSPLLHKSKQRTMAFRPLSQLLFWTLVANLLILTWIGSQPVEHPFIIIGQLASTTYFIILLILFPITSALENKMLNF\n",
      "42595.87590000001\n",
      "MAPNLRKSHPLLKTINNSLIDLPTPSNISAWWNFGSLLGICLATQILTGLLLAAHYTADTTLAFSSVAHMCRNVQYGWLIRNLHANGASFFFICIYLHIGRGLYYGSYLYKETWNTGIILLLTLMATAFVGYVLPWGQMSFWGATVITNLFSAIPYIGQTLVEWAWGGFSVDNPTLTRFFALHFLLPFMITGLTLIHLTFLHESGSNNPLGIVANSDKIPFHPYYSTKDILGFMLLLLPLTTLALFSPNLLGDPENFTPANPLVTPPHIKPEWYFLFAYAILRSIPNKLGGVLALAASVLILFLMPLLHKSKQRTMAFRPLSQLLFWTLVANLIILTWIGSQPVEHPFIAIGQLASFTYFTTLLILFPLAGALENKMLNH\n",
      "42431.54900000002\n",
      "MAPNLRKSHPLLKTINNSLIDLPTPSNISAWWNFGSLLSICLATQILTGLLLAAHYTADTTLAFSSVAHMCRNVQYGWLIRNLHANGASFFFICIYLHIGRGLYYGSYLHKETWNTGIILLLTLMATAFVGYVLPWGQMSFWGATVITNLFSAIPYIGQTLVEWAWGGFSVDNPTLTRFFALHFLLPFMITGLALIHLTFLHESGSNNPLGIVANSDKIPFHPYYSTKDILGFMLLLLPLTTLALFSPNLLGDPENFTPANPLVTPPHIKPEWYFLFAYAILRSIPNKLGGVLALAASVLILFLMPLLHKSKQRTMAFRPLSQLLFWTLVANLIILTWVGSQPVEHPFIIIGQLASLTYFTTLLILFPLAGALENKMLNH\n",
      "42399.55200000001\n",
      "MAPNLRKSHPLLKTINNSLIDLPTPSNISAWWNFGSLLGICLATQILTGLLLAAHYTADTTLAFSSVAHMCRNVQYGWLIRNLHANGASFFFICIYLHIGRGLYYGSYLYKETWNTGIILLLTLMATAFVGYVLPWGQMSFWGATVITNLFSAIPYIGQTLVEWAWGGFSVDNPTLTRFFALHFLLPFMITGLTLIHLTFLHESGSNNPLGIVANSDKIPFHPYYSTKDILGFMLLLLPLTTLALFSPNLLGDPENFTPANPLVTPPHIKPEWYFLFAYAILRSIPNKLGGVLALAASVLILFLMPLLHKSKQRTMAFRPLSQLLFWTLVANLIILTWVGSQPVEHPFIIIGQLASFTYFTTLLILFPLAGALENKMLNH\n",
      "42459.60210000002\n"
     ]
    }
   ],
   "source": [
    "for key, value in cytb_seqs.items():\n",
    "    aa_seq = alternative_function(value)\n",
    "    print(aa_seq) \n",
    "    gc = GC_content(value) #using our previous GC content function to calculate GC content in our file\n",
    "    penguins_df.loc[penguins_df.species == key,'GC_content'] = gc #.loc is used to access rows and columns by labels, whether that be to retrieve those values or replace them. We want our molecular weight and GC content values to match the species, for each row(species), in the GC_content column. \n",
    "    molecular_weight = compute_molecular_weight(str(aa_seq))# using the molecular weight computing function previously described on the aa sequence\n",
    "    print(molecular_weight) #in the case we need to trouble shoot.  \n",
    "    penguins_df.loc[penguins_df.species == key,'Molecular_Weight'] = molecular_weight"
   ]
  },
  {
   "cell_type": "code",
   "execution_count": 19,
   "id": "4e959a8a",
   "metadata": {},
   "outputs": [
    {
     "name": "stdout",
     "output_type": "stream",
     "text": [
      "                    species   mass  Molecular_Weight  GC_content\n",
      "0      Aptenodytes forsteri  28.00        42459.6021    4.636920\n",
      "1   Aptenodytes patagonicus  13.40        42563.7067    4.374453\n",
      "2       Eudyptes chrysocome   2.80        42475.5753    4.636920\n",
      "3     Eudyptes chrysolophus   4.50        42445.5493    4.724409\n",
      "4         Eudyptes sclateri   4.25        42475.5753    4.461942\n",
      "5           Eudyptula minor   1.60        42491.6408    4.461942\n",
      "6        Pygoscelis adeliae   4.60        42458.6140    4.549431\n",
      "7     Pygoscelis antarctica   4.10        42404.5423    3.849519\n",
      "8          Pygoscelis papua   6.10        42595.8759    4.286964\n",
      "9       Spheniscus demersus   3.20        42431.5490    4.724409\n",
      "10     Spheniscus humboldti   4.75        42399.5520    4.636920\n",
      "11  Spheniscus magellanicus   3.40        42459.6021    4.636920\n"
     ]
    }
   ],
   "source": [
    "print(penguins_df) #check the dataframe. "
   ]
  },
  {
   "cell_type": "markdown",
   "id": "43083a24",
   "metadata": {},
   "source": [
    "Resources used to answer #7: \n",
    "1. https://eeob-biodata.github.io/BCB546X-python/02-datatypes/\n",
    "2. https://pandas.pydata.org/docs/reference/api/pandas.DataFrame.loc.html"
   ]
  },
  {
   "cell_type": "markdown",
   "id": "eb157eba",
   "metadata": {},
   "source": [
    "## 8. bar-chart of the mass with the x-axes labeled with species names:"
   ]
  },
  {
   "cell_type": "markdown",
   "id": "e24fef25",
   "metadata": {},
   "source": [
    "Explanation of the code below: \n",
    "Here, we are using seaborn barplot functions to plot the relationship between species and mass. We rotated the x labels 90 degrees in order to properly see the species names.\n",
    "\n",
    "To answer the questions: \n",
    "\n",
    "What is the smallest penguin species? \n",
    "The penguin with the smallest mass is Eudyptula minor. \n",
    "\n",
    "What is the geographical range of this species?\n",
    "The geographical range of Eudyptula minor is southern Australia and New Zealand. "
   ]
  },
  {
   "cell_type": "code",
   "execution_count": 20,
   "id": "dad0405f",
   "metadata": {},
   "outputs": [
    {
     "data": {
      "text/plain": [
       "(array([ 0,  1,  2,  3,  4,  5,  6,  7,  8,  9, 10, 11]),\n",
       " [Text(0, 0, 'Aptenodytes forsteri'),\n",
       "  Text(1, 0, 'Aptenodytes patagonicus'),\n",
       "  Text(2, 0, 'Eudyptes chrysocome'),\n",
       "  Text(3, 0, 'Eudyptes chrysolophus'),\n",
       "  Text(4, 0, 'Eudyptes sclateri'),\n",
       "  Text(5, 0, 'Eudyptula minor'),\n",
       "  Text(6, 0, 'Pygoscelis adeliae'),\n",
       "  Text(7, 0, 'Pygoscelis antarctica'),\n",
       "  Text(8, 0, 'Pygoscelis papua'),\n",
       "  Text(9, 0, 'Spheniscus demersus'),\n",
       "  Text(10, 0, 'Spheniscus humboldti'),\n",
       "  Text(11, 0, 'Spheniscus magellanicus')])"
      ]
     },
     "execution_count": 20,
     "metadata": {},
     "output_type": "execute_result"
    },
    {
     "data": {
      "image/png": "[encoded data removed]",
      "text/plain": [
       "<Figure size 640x480 with 1 Axes>"
      ]
     },
     "metadata": {},
     "output_type": "display_data"
    }
   ],
   "source": [
    "sns.barplot(x = 'species',\n",
    "            y = 'mass',\n",
    "            data = penguins_df)\n",
    "plt.xticks(rotation=90)"
   ]
  },
  {
   "cell_type": "markdown",
   "id": "78430e16",
   "metadata": {},
   "source": [
    "Resources for answering question #8:\n",
    "1. https://www.analyticsvidhya.com/blog/2021/08/understanding-bar-plots-in-python-beginners-guide-to-data-visualization/\n",
    "2. https://stackoverflow.com/questions/33227473/how-to-set-the-range-of-y-axis-for-a-seaborn-boxplot\n",
    "\n",
    "Penguin facts: \n",
    "1. https://www.aquariumofpacific.org/onlinelearningcenter/species/little_blue_penguin"
   ]
  },
  {
   "cell_type": "markdown",
   "id": "2e3bfff1",
   "metadata": {},
   "source": [
    "## 9. visualization of the molecular weight (y-axis) as a function of GC-content (x-axis): "
   ]
  },
  {
   "cell_type": "markdown",
   "id": "150ef14d",
   "metadata": {},
   "source": [
    "I prefer scatterplots to show a functional relationship between 2 quantitative variables. \n",
    "There is no obvious functional relationship between molecular weight and GC content. "
   ]
  },
  {
   "cell_type": "code",
   "execution_count": 21,
   "id": "c4e5916c",
   "metadata": {},
   "outputs": [
    {
     "data": {
      "text/plain": [
       "<seaborn.axisgrid.FacetGrid at 0x7f85d825e5f0>"
      ]
     },
     "execution_count": 21,
     "metadata": {},
     "output_type": "execute_result"
    },
    {
     "data": {
      "image/png": "[encoded data removed]",
      "text/plain": [
       "<Figure size 1200x800 with 1 Axes>"
      ]
     },
     "metadata": {},
     "output_type": "display_data"
    }
   ],
   "source": [
    "sns.lmplot(x=\"GC_content\", y=\"Molecular_Weight\", data=penguins_df, fit_reg=True, height=8, aspect=1.5)"
   ]
  },
  {
   "cell_type": "markdown",
   "id": "14845659",
   "metadata": {},
   "source": [
    "Resources used for question #9: \n",
    "1. https://eeob-biodata.github.io/BCB546X-python/05-seaborn-viz/"
   ]
  },
  {
   "cell_type": "markdown",
   "id": "73dae1b2",
   "metadata": {},
   "source": [
    "## 10. Save the new DataFrame to a file called \"penguins_mass_cytb.csv\":"
   ]
  },
  {
   "cell_type": "code",
   "execution_count": 22,
   "id": "0d293e68",
   "metadata": {},
   "outputs": [],
   "source": [
    "penguins_df.to_csv('penguins_mass_cytb.csv')"
   ]
  },
  {
   "cell_type": "markdown",
   "id": "57b7a954",
   "metadata": {},
   "source": [
    "Resources used for question #10: \n",
    "1. https://towardsdatascience.com/how-to-export-pandas-dataframe-to-csv-2038e43d9c03"
   ]
  },
  {
   "cell_type": "markdown",
   "id": "5dad55f1",
   "metadata": {},
   "source": [
    "## 11. Potential bonus: "
   ]
  },
  {
   "cell_type": "markdown",
   "id": "3c2cdc8b",
   "metadata": {},
   "source": [
    "The code below allows us to see all the possible relantions between all numeric variables in our dataset. It is all relatively low - but further tests would need to be ran in order to reach a conclusion. "
   ]
  },
  {
   "cell_type": "code",
   "execution_count": 23,
   "id": "b76aa409",
   "metadata": {},
   "outputs": [
    {
     "name": "stderr",
     "output_type": "stream",
     "text": [
      "/var/folders/c3/1dxj22vn169_4rm4jy5r6l7m0000gn/T/ipykernel_68722/3518966292.py:2: FutureWarning: The default value of numeric_only in DataFrame.corr is deprecated. In a future version, it will default to False. Select only valid columns or specify the value of numeric_only to silence this warning.\n",
      "  sns.heatmap(penguins_df.corr(), xticklabels=penguins_df.corr().columns, yticklabels=penguins_df.corr().columns, cmap='RdYlGn', center=0, annot=True)\n"
     ]
    },
    {
     "data": {
      "text/plain": [
       "<Axes: >"
      ]
     },
     "execution_count": 23,
     "metadata": {},
     "output_type": "execute_result"
    },
    {
     "data": {
      "image/png": "[encoded data removed]",
      "text/plain": [
       "<Figure size 960x800 with 2 Axes>"
      ]
     },
     "metadata": {},
     "output_type": "display_data"
    }
   ],
   "source": [
    "plt.figure(figsize=(12,10), dpi= 80)\n",
    "sns.heatmap(penguins_df.corr(), xticklabels=penguins_df.corr().columns, yticklabels=penguins_df.corr().columns, cmap='RdYlGn', center=0, annot=True)"
   ]
  },
  {
   "cell_type": "markdown",
   "id": "15324a0a",
   "metadata": {},
   "source": [
    "Resource used for graph: \n",
    "1. https://www.machinelearningplus.com/plots/top-50-matplotlib-visualizations-the-master-plots-python/"
   ]
  },
  {
   "cell_type": "markdown",
   "id": "af171129",
   "metadata": {},
   "source": []
  }
 ],
 "metadata": {
  "kernelspec": {
   "display_name": "Python 3 (ipykernel)",
   "language": "python",
   "name": "python3"
  },
  "language_info": {
   "codemirror_mode": {
    "name": "ipython",
    "version": 3
   },
   "file_extension": ".py",
   "mimetype": "text/x-python",
   "name": "python",
   "nbconvert_exporter": "python",
   "pygments_lexer": "ipython3",
   "version": "3.10.9"
  }
 },
 "nbformat": 4,
 "nbformat_minor": 5
}
